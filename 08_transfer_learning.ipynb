{
 "cells": [
  {
   "cell_type": "markdown",
   "metadata": {},
   "source": [
    "# Transfer learning"
   ]
  },
  {
   "cell_type": "markdown",
   "metadata": {},
   "source": [
    "Various imports"
   ]
  },
  {
   "cell_type": "code",
   "execution_count": 153,
   "metadata": {},
   "outputs": [],
   "source": [
    "# Silence Tensorflow warnings\n",
    "import os\n",
    "os.environ['TF_CPP_MIN_LOG_LEVEL'] = '3'\n",
    "\n",
    "import pandas as pd\n",
    "import numpy as np\n",
    "from tqdm import tqdm\n",
    "from typing import List, Tuple\n",
    "\n",
    "from tensorflow import keras\n",
    "import wandb\n",
    "from wandb.keras import WandbCallback\n",
    "from sklearn.model_selection import train_test_split\n",
    "from sklearn.preprocessing import MinMaxScaler\n",
    "\n",
    "import matplotlib.pyplot as plt"
   ]
  },
  {
   "cell_type": "markdown",
   "metadata": {},
   "source": [
    "Configure the W&B run"
   ]
  },
  {
   "cell_type": "code",
   "execution_count": 139,
   "metadata": {},
   "outputs": [
    {
     "data": {
      "text/html": [
       "Finishing last run (ID:1psgefwn) before initializing another..."
      ],
      "text/plain": [
       "<IPython.core.display.HTML object>"
      ]
     },
     "metadata": {},
     "output_type": "display_data"
    },
    {
     "data": {
      "text/html": [
       "Waiting for W&B process to finish... <strong style=\"color:green\">(success).</strong>"
      ],
      "text/plain": [
       "<IPython.core.display.HTML object>"
      ]
     },
     "metadata": {},
     "output_type": "display_data"
    },
    {
     "data": {
      "text/html": [
       "<style>\n",
       "    table.wandb td:nth-child(1) { padding: 0 10px; text-align: left ; width: auto;} td:nth-child(2) {text-align: left ; width: 100%}\n",
       "    .wandb-row { display: flex; flex-direction: row; flex-wrap: wrap; justify-content: flex-start; width: 100% }\n",
       "    .wandb-col { display: flex; flex-direction: column; flex-basis: 100%; flex: 1; padding: 10px; }\n",
       "    </style>\n",
       "<div class=\"wandb-row\"><div class=\"wandb-col\"><h3>Run history:</h3><br/><table class=\"wandb\"><tr><td>accuracy</td><td>▁</td></tr><tr><td>loss</td><td>▁</td></tr></table><br/></div><div class=\"wandb-col\"><h3>Run summary:</h3><br/><table class=\"wandb\"><tr><td>accuracy</td><td>0.0</td></tr><tr><td>loss</td><td>0.0</td></tr></table><br/></div></div>"
      ],
      "text/plain": [
       "<IPython.core.display.HTML object>"
      ]
     },
     "metadata": {},
     "output_type": "display_data"
    },
    {
     "data": {
      "text/html": [
       "Synced <strong style=\"color:#cdcd00\">earthy-cosmos-14</strong>: <a href=\"https://wandb.ai/nicolaromano/scRNA-seq-classification/runs/1psgefwn\" target=\"_blank\">https://wandb.ai/nicolaromano/scRNA-seq-classification/runs/1psgefwn</a><br/>Synced 5 W&B file(s), 0 media file(s), 0 artifact file(s) and 0 other file(s)"
      ],
      "text/plain": [
       "<IPython.core.display.HTML object>"
      ]
     },
     "metadata": {},
     "output_type": "display_data"
    },
    {
     "data": {
      "text/html": [
       "Find logs at: <code>./wandb/run-20220711_160740-1psgefwn/logs</code>"
      ],
      "text/plain": [
       "<IPython.core.display.HTML object>"
      ]
     },
     "metadata": {},
     "output_type": "display_data"
    },
    {
     "data": {
      "text/html": [
       "Successfully finished last run (ID:1psgefwn). Initializing new run:<br/>"
      ],
      "text/plain": [
       "<IPython.core.display.HTML object>"
      ]
     },
     "metadata": {},
     "output_type": "display_data"
    },
    {
     "data": {
      "text/html": [
       "wandb version 0.12.21 is available!  To upgrade, please run:\n",
       " $ pip install wandb --upgrade"
      ],
      "text/plain": [
       "<IPython.core.display.HTML object>"
      ]
     },
     "metadata": {},
     "output_type": "display_data"
    },
    {
     "data": {
      "text/html": [
       "Tracking run with wandb version 0.12.19"
      ],
      "text/plain": [
       "<IPython.core.display.HTML object>"
      ]
     },
     "metadata": {},
     "output_type": "display_data"
    },
    {
     "data": {
      "text/html": [
       "Run data is saved locally in <code>/storage/Storage/Nico/scRNAseqPit/wandb/run-20220712_124810-2fqluvot</code>"
      ],
      "text/plain": [
       "<IPython.core.display.HTML object>"
      ]
     },
     "metadata": {},
     "output_type": "display_data"
    },
    {
     "data": {
      "text/html": [
       "Syncing run <strong><a href=\"https://wandb.ai/nicolaromano/scRNA-seq-classification/runs/2fqluvot\" target=\"_blank\">curious-lion-15</a></strong> to <a href=\"https://wandb.ai/nicolaromano/scRNA-seq-classification\" target=\"_blank\">Weights & Biases</a> (<a href=\"https://wandb.me/run\" target=\"_blank\">docs</a>)<br/>"
      ],
      "text/plain": [
       "<IPython.core.display.HTML object>"
      ]
     },
     "metadata": {},
     "output_type": "display_data"
    }
   ],
   "source": [
    "batch_size = 32\n",
    "epochs = 100\n",
    "\n",
    "wandb.init(project=\"scRNA-seq-classification\",\n",
    "    config={\"batch_size\": batch_size, \"epochs\": epochs, \"n_layers\": 3, \"n_nodes\": [512, 256, 32], \"dataset_name\": \"\"})\n",
    "\n",
    "wandb.log({\"accuracy\": 0.0, \"loss\": 0.0})"
   ]
  },
  {
   "cell_type": "markdown",
   "metadata": {},
   "source": [
    "We start by reading expression matrices and labels for all male datasets"
   ]
  },
  {
   "cell_type": "code",
   "execution_count": 152,
   "metadata": {},
   "outputs": [
    {
     "name": "stdout",
     "output_type": "stream",
     "text": [
      "Reading expression matrices...\n"
     ]
    },
    {
     "name": "stderr",
     "output_type": "stream",
     "text": [
      "100%|██████████| 6/6 [00:03<00:00,  1.54it/s]\n"
     ]
    },
    {
     "name": "stdout",
     "output_type": "stream",
     "text": [
      "[(12204, 762), (12204, 1028), (12204, 810), (12204, 922), (12204, 2272), (12204, 485)]\n",
      "Reading clusters...\n"
     ]
    },
    {
     "name": "stderr",
     "output_type": "stream",
     "text": [
      "100%|██████████| 6/6 [00:00<00:00, 1126.59it/s]\n"
     ]
    }
   ],
   "source": [
    "# Find all csv.gz files in the expr_matrices directory\n",
    "filenames_expr = [f for f in os.listdir(\"expr_matrices\") if f.endswith(\"M.csv.gz\")]\n",
    "filenames_clusters = [f for f in os.listdir(\"expr_matrices\") if f.endswith(\"M_clusters.csv\")]\n",
    "\n",
    "print(\"Reading expression matrices...\")\n",
    "expr = [pd.read_csv(f\"expr_matrices/{f}\") for f in tqdm(filenames_expr)]\n",
    "\n",
    "print([e.shape for e in expr])\n",
    "# Now intersect the gene ids\n",
    "common_genes = []\n",
    "for item in expr:\n",
    "    item.rename(columns={item.columns[0]: \"gene_id\"}, inplace = True)\n",
    "    item.set_index(\"gene_id\", inplace=True)\n",
    "    if len(common_genes) == 0:\n",
    "        common_genes = item.index\n",
    "    else:\n",
    "        common_genes = common_genes.intersection(item.index)\n",
    "\n",
    "for i in range(len(expr)):\n",
    "    expr[i] = expr[i].loc[common_genes]\n",
    "    # Convert to Numpy array and transpose\n",
    "    expr[i] = expr[i].values.T\n",
    "\n",
    "print(\"Reading clusters...\")\n",
    "clusters = [pd.read_csv(f\"expr_matrices/{f}\") for f in tqdm(filenames_clusters)]"
   ]
  },
  {
   "cell_type": "markdown",
   "metadata": {},
   "source": [
    "This defines our MLP\n",
    "\n",
    "TODO: \n",
    "\n",
    "- hyperparameter tuning\n",
    "- regularization / dropout"
   ]
  },
  {
   "cell_type": "code",
   "execution_count": 155,
   "metadata": {},
   "outputs": [],
   "source": [
    "def build_model(n_clusters:int) -> keras.Model:\n",
    "    \"\"\"\n",
    "    Build a 3-layer multi-class MLP classifier.\n",
    "    \n",
    "    param: n_clusters (int) - the number of clusters (possible classes)\n",
    "    return: model (keras.Model) - the model    \n",
    "    \"\"\"\n",
    "\n",
    "    # Now build our MLP\n",
    "    model = keras.Sequential()\n",
    "    model.add(keras.layers.InputLayer(input_shape=(len(common_genes))))\n",
    "    model.add(keras.layers.Dense(512, activation=\"relu\", kernel_regularizer=keras.regularizers.l1(0.001), name=\"dense_1\"))\n",
    "    model.add(keras.layers.Dense(256, activation=\"relu\", kernel_regularizer=keras.regularizers.l1(0.001), name=\"hidden_2\"))\n",
    "    model.add(keras.layers.Dense(32, activation=\"relu\", kernel_regularizer=keras.regularizers.l1(0.001), name=\"hidden_3\"))\n",
    "    # Output layer\n",
    "    # Note the +1 to take into account the \"other\" class\n",
    "    model.add(keras.layers.Dense(n_clusters + 1, activation=\"softmax\", name=\"output\"))\n",
    "\n",
    "    model.compile(optimizer=\"adam\", loss=\"categorical_crossentropy\", metrics=[\"accuracy\"])\n",
    "    # model.summary()\n",
    "\n",
    "    return model\n"
   ]
  },
  {
   "cell_type": "markdown",
   "metadata": {},
   "source": [
    "This function prepares the training data\n",
    "\n",
    "TODO:\n",
    "\n",
    "- augmentation through noise\n",
    "- shuffled examples for \"other\" label"
   ]
  },
  {
   "cell_type": "code",
   "execution_count": 156,
   "metadata": {},
   "outputs": [],
   "source": [
    "def prepare_training_data(expr: List, clusters: List, dataset_id: int) -> Tuple[np.ndarray, np.ndarray, np.ndarray, np.ndarray]:\n",
    "    \"\"\"\n",
    "    Prepare the training data for the MLP.\n",
    "\n",
    "    param: expr (list) - the expression matrices\n",
    "    param: clusters (list) - the list of cluster identities\n",
    "    param: dataset_id (int) - the id of the dataset we are using as reference\n",
    "    return: x_train (np.array) - the training data\n",
    "    return: y_train (np.array) - the training labels\n",
    "    \"\"\"\n",
    "\n",
    "    # We will use the expression matrices as the training data\n",
    "    # The labels will be the cluster labels\n",
    "\n",
    "    # We get the expression matrix and labels for the dataset we are using as reference...\n",
    "    expr = expr[dataset_id]\n",
    "    clusters = clusters[dataset_id][\"Cluster\"].values\n",
    "    # ... and split into training and test data\n",
    "    x_train, x_test, y_train, y_test = train_test_split(expr, clusters, test_size=0.1, random_state=42)\n",
    "\n",
    "    # Scale the data with MinMaxScaler\n",
    "    scaler = MinMaxScaler()\n",
    "    x_train = scaler.fit_transform(x_train)\n",
    "    x_test = scaler.transform(x_test)\n",
    "\n",
    "    # One-hot encode labels\n",
    "    y_train = keras.utils.to_categorical(y_train, num_classes=len(np.unique(clusters)) + 1)\n",
    "    y_test = keras.utils.to_categorical(y_test, num_classes=len(np.unique(clusters)) + 1)\n",
    "\n",
    "    return (x_train, y_train, x_test, y_test)"
   ]
  },
  {
   "cell_type": "code",
   "execution_count": 157,
   "metadata": {},
   "outputs": [],
   "source": [
    "def get_augmented_samples(x_train: np.array, y_train: np.array, n: int = 1, perc_shuffle_genes: float = 0.01) -> Tuple[np.array, np.array]:\n",
    "    \"\"\"\n",
    "    Creates augmented samples from the training data.\n",
    "\n",
    "    param: x_train (np.array) - the training data\n",
    "    param: y_train (np.array) - the training labels\n",
    "    param: n (int) - the number of augmented samples to create. Default is 1.\n",
    "    param: perc_shuffle_genes (float) - the percentage of genes to shuffle (per cell). Default is 0.01.\n",
    "    return: x_train_aug, y_train_aug (np.array, np.array) - the augmented training data\n",
    "    \"\"\"\n",
    "\n",
    "    # Get a list of cluster labels\n",
    "    y_train_aug = np.random.choice(np.unique(np.argmax(y_train, axis=1)), size = n)\n",
    "\n",
    "    # Shuffle the data on a per-cluster/per-gene basis\n",
    "\n",
    "    # Split x_train by cluster\n",
    "    x_by_cluster = [x_train[np.where(np.argmax(y_train, axis=1)==i)] for i in range(y_train.shape[1] - 1)]\n",
    "\n",
    "    for x in x_by_cluster:\n",
    "        genes = np.random.choice(x.shape[1], int(\n",
    "            perc_shuffle_genes * x.shape[1]), replace=False)\n",
    "\n",
    "        # Randomly swaps the values of the cells gene-wise\n",
    "        for g in genes:\n",
    "            x[:, g] = np.random.permutation(x[:, g])\n",
    "\n",
    "    # Pick shuffled data corresponding to the cluster labels    \n",
    "    x_train_aug = np.vstack([x_by_cluster[i][np.random.randint(0, x_by_cluster[i].shape[0]), :] for i in y_train_aug])\n",
    "\n",
    "    # One-hot encode labels\n",
    "    y_train_aug = keras.utils.to_categorical(y_train_aug, num_classes=y_train.shape[1])\n",
    "    \n",
    "    return (x_train_aug, y_train_aug)"
   ]
  },
  {
   "cell_type": "code",
   "execution_count": 158,
   "metadata": {},
   "outputs": [
    {
     "name": "stdout",
     "output_type": "stream",
     "text": [
      "Using dataset Cheung2018M as reference\n",
      "Model: \"sequential_3\"\n",
      "_________________________________________________________________\n",
      " Layer (type)                Output Shape              Param #   \n",
      "=================================================================\n",
      " dense_1 (Dense)             (None, 512)               6248960   \n",
      "                                                                 \n",
      " hidden_2 (Dense)            (None, 256)               131328    \n",
      "                                                                 \n",
      " hidden_3 (Dense)            (None, 32)                8224      \n",
      "                                                                 \n",
      " output (Dense)              (None, 6)                 198       \n",
      "                                                                 \n",
      "=================================================================\n",
      "Total params: 6,388,710\n",
      "Trainable params: 6,388,710\n",
      "Non-trainable params: 0\n",
      "_________________________________________________________________\n",
      "None\n"
     ]
    }
   ],
   "source": [
    "ref_dataset = 0\n",
    "\n",
    "dataset_name = filenames_expr[ref_dataset].split(\".\")[0]\n",
    "print(f\"Using dataset {dataset_name} as reference\")\n",
    "\n",
    "# Update in W&B\n",
    "wandb.config.dataset_name = dataset_name\n",
    "\n",
    "model  = build_model(len(clusters[ref_dataset][\"Cluster\"].unique()))\n",
    "x_train, y_train, x_test, y_test = prepare_training_data(expr, clusters, ref_dataset)\n",
    "x_train_aug, y_train_aug = get_augmented_samples(x_train, y_train, n=500, perc_shuffle_genes=0.01)\n",
    "\n",
    "x_train = np.vstack([x_train, x_train_aug])\n",
    "y_train = np.vstack([y_train, y_train_aug])\n",
    "\n",
    "print(model.summary())"
   ]
  },
  {
   "cell_type": "markdown",
   "metadata": {},
   "source": [
    "Finally, we can train the model"
   ]
  },
  {
   "cell_type": "code",
   "execution_count": 159,
   "metadata": {},
   "outputs": [
    {
     "name": "stdout",
     "output_type": "stream",
     "text": [
      "Epoch 1/100\n",
      "37/37 [==============================] - 2s 25ms/step - loss: 26.7962 - accuracy: 0.5600 - val_loss: 8.5835 - val_accuracy: 0.5584 - _timestamp: 1657814645.0000 - _runtime: 188150.0000\n",
      "Epoch 2/100\n",
      "37/37 [==============================] - 1s 23ms/step - loss: 5.6954 - accuracy: 0.7449 - val_loss: 4.4495 - val_accuracy: 0.5455 - _timestamp: 1657814646.0000 - _runtime: 188151.0000\n",
      "Epoch 3/100\n",
      "37/37 [==============================] - 1s 23ms/step - loss: 3.4977 - accuracy: 0.8514 - val_loss: 3.3212 - val_accuracy: 0.7013 - _timestamp: 1657814647.0000 - _runtime: 188152.0000\n",
      "Epoch 4/100\n",
      "37/37 [==============================] - 1s 23ms/step - loss: 2.8115 - accuracy: 0.9198 - val_loss: 3.0083 - val_accuracy: 0.7143 - _timestamp: 1657814647.0000 - _runtime: 188152.0000\n",
      "Epoch 5/100\n",
      "37/37 [==============================] - 1s 23ms/step - loss: 2.5631 - accuracy: 0.9307 - val_loss: 2.6298 - val_accuracy: 0.8831 - _timestamp: 1657814648.0000 - _runtime: 188153.0000\n",
      "Epoch 6/100\n",
      "37/37 [==============================] - 1s 23ms/step - loss: 2.2510 - accuracy: 0.9586 - val_loss: 2.4692 - val_accuracy: 0.8831 - _timestamp: 1657814649.0000 - _runtime: 188154.0000\n",
      "Epoch 7/100\n",
      "37/37 [==============================] - 1s 23ms/step - loss: 2.1850 - accuracy: 0.9704 - val_loss: 2.1902 - val_accuracy: 0.8961 - _timestamp: 1657814650.0000 - _runtime: 188155.0000\n",
      "Epoch 8/100\n",
      "37/37 [==============================] - 1s 24ms/step - loss: 1.7322 - accuracy: 0.9983 - val_loss: 1.9552 - val_accuracy: 0.8701 - _timestamp: 1657814651.0000 - _runtime: 188156.0000\n",
      "Epoch 9/100\n",
      "37/37 [==============================] - 1s 23ms/step - loss: 1.5634 - accuracy: 1.0000 - val_loss: 1.9289 - val_accuracy: 0.7922 - _timestamp: 1657814652.0000 - _runtime: 188157.0000\n",
      "Epoch 10/100\n",
      "37/37 [==============================] - 1s 25ms/step - loss: 1.4816 - accuracy: 1.0000 - val_loss: 1.8580 - val_accuracy: 0.8312 - _timestamp: 1657814653.0000 - _runtime: 188158.0000\n",
      "Epoch 11/100\n",
      "37/37 [==============================] - 1s 23ms/step - loss: 1.4197 - accuracy: 1.0000 - val_loss: 1.8734 - val_accuracy: 0.7922 - _timestamp: 1657814653.0000 - _runtime: 188158.0000\n",
      "Epoch 12/100\n",
      "37/37 [==============================] - 1s 23ms/step - loss: 1.3486 - accuracy: 1.0000 - val_loss: 1.7813 - val_accuracy: 0.8052 - _timestamp: 1657814654.0000 - _runtime: 188159.0000\n",
      "Epoch 13/100\n",
      "37/37 [==============================] - 1s 23ms/step - loss: 1.3261 - accuracy: 0.9983 - val_loss: 1.7902 - val_accuracy: 0.8312 - _timestamp: 1657814655.0000 - _runtime: 188160.0000\n",
      "Epoch 14/100\n",
      "37/37 [==============================] - 1s 23ms/step - loss: 1.2867 - accuracy: 1.0000 - val_loss: 1.7740 - val_accuracy: 0.7662 - _timestamp: 1657814656.0000 - _runtime: 188161.0000\n",
      "Epoch 15/100\n",
      "37/37 [==============================] - 1s 23ms/step - loss: 1.2248 - accuracy: 1.0000 - val_loss: 1.7836 - val_accuracy: 0.7922 - _timestamp: 1657814657.0000 - _runtime: 188162.0000\n",
      "Epoch 16/100\n",
      "37/37 [==============================] - 1s 23ms/step - loss: 1.2050 - accuracy: 1.0000 - val_loss: 1.6732 - val_accuracy: 0.8182 - _timestamp: 1657814658.0000 - _runtime: 188163.0000\n",
      "Epoch 17/100\n",
      "37/37 [==============================] - 1s 23ms/step - loss: 1.1672 - accuracy: 1.0000 - val_loss: 1.9018 - val_accuracy: 0.7662 - _timestamp: 1657814659.0000 - _runtime: 188164.0000\n",
      "Epoch 18/100\n",
      "37/37 [==============================] - 1s 22ms/step - loss: 1.1705 - accuracy: 1.0000 - val_loss: 1.7072 - val_accuracy: 0.7792 - _timestamp: 1657814659.0000 - _runtime: 188164.0000\n",
      "Epoch 19/100\n",
      "37/37 [==============================] - 1s 22ms/step - loss: 1.1413 - accuracy: 1.0000 - val_loss: 1.6790 - val_accuracy: 0.8052 - _timestamp: 1657814660.0000 - _runtime: 188165.0000\n",
      "Epoch 20/100\n",
      "37/37 [==============================] - 1s 24ms/step - loss: 1.2212 - accuracy: 0.9789 - val_loss: 2.0080 - val_accuracy: 0.7792 - _timestamp: 1657814661.0000 - _runtime: 188166.0000\n",
      "Epoch 21/100\n",
      "37/37 [==============================] - 1s 24ms/step - loss: 1.9763 - accuracy: 0.9358 - val_loss: 2.2015 - val_accuracy: 0.8442 - _timestamp: 1657814662.0000 - _runtime: 188167.0000\n",
      "Epoch 22/100\n",
      "37/37 [==============================] - 1s 24ms/step - loss: 1.5073 - accuracy: 0.9983 - val_loss: 1.7755 - val_accuracy: 0.8312 - _timestamp: 1657814663.0000 - _runtime: 188168.0000\n",
      "Epoch 23/100\n",
      "37/37 [==============================] - 1s 23ms/step - loss: 1.2061 - accuracy: 1.0000 - val_loss: 1.6345 - val_accuracy: 0.8571 - _timestamp: 1657814664.0000 - _runtime: 188169.0000\n",
      "Epoch 24/100\n",
      "37/37 [==============================] - 1s 23ms/step - loss: 1.1021 - accuracy: 1.0000 - val_loss: 1.5997 - val_accuracy: 0.8312 - _timestamp: 1657814665.0000 - _runtime: 188170.0000\n",
      "Epoch 25/100\n",
      "37/37 [==============================] - 1s 23ms/step - loss: 1.0593 - accuracy: 1.0000 - val_loss: 1.5882 - val_accuracy: 0.8052 - _timestamp: 1657814665.0000 - _runtime: 188170.0000\n",
      "Epoch 26/100\n",
      "37/37 [==============================] - 1s 24ms/step - loss: 1.0368 - accuracy: 1.0000 - val_loss: 1.5269 - val_accuracy: 0.8052 - _timestamp: 1657814666.0000 - _runtime: 188171.0000\n",
      "Epoch 27/100\n",
      "37/37 [==============================] - 1s 23ms/step - loss: 1.0216 - accuracy: 1.0000 - val_loss: 1.5259 - val_accuracy: 0.8052 - _timestamp: 1657814667.0000 - _runtime: 188172.0000\n",
      "Epoch 28/100\n",
      "37/37 [==============================] - 1s 23ms/step - loss: 1.0134 - accuracy: 1.0000 - val_loss: 1.5977 - val_accuracy: 0.8182 - _timestamp: 1657814668.0000 - _runtime: 188173.0000\n",
      "Epoch 29/100\n",
      "37/37 [==============================] - 1s 23ms/step - loss: 1.0127 - accuracy: 1.0000 - val_loss: 1.6320 - val_accuracy: 0.8052 - _timestamp: 1657814669.0000 - _runtime: 188174.0000\n",
      "Epoch 30/100\n",
      "37/37 [==============================] - 1s 23ms/step - loss: 1.0046 - accuracy: 1.0000 - val_loss: 1.4926 - val_accuracy: 0.8182 - _timestamp: 1657814670.0000 - _runtime: 188175.0000\n",
      "Epoch 31/100\n",
      "37/37 [==============================] - 1s 23ms/step - loss: 0.9933 - accuracy: 1.0000 - val_loss: 1.4855 - val_accuracy: 0.8182 - _timestamp: 1657814671.0000 - _runtime: 188176.0000\n",
      "Epoch 32/100\n",
      "37/37 [==============================] - 1s 23ms/step - loss: 0.9858 - accuracy: 1.0000 - val_loss: 1.5528 - val_accuracy: 0.7922 - _timestamp: 1657814671.0000 - _runtime: 188176.0000\n",
      "Epoch 33/100\n",
      "37/37 [==============================] - 1s 23ms/step - loss: 0.9833 - accuracy: 1.0000 - val_loss: 1.5568 - val_accuracy: 0.7922 - _timestamp: 1657814672.0000 - _runtime: 188177.0000\n",
      "Epoch 34/100\n",
      "37/37 [==============================] - 1s 23ms/step - loss: 0.9743 - accuracy: 1.0000 - val_loss: 1.4669 - val_accuracy: 0.8182 - _timestamp: 1657814673.0000 - _runtime: 188178.0000\n",
      "Epoch 35/100\n",
      "37/37 [==============================] - 1s 23ms/step - loss: 0.9748 - accuracy: 1.0000 - val_loss: 1.4999 - val_accuracy: 0.7922 - _timestamp: 1657814674.0000 - _runtime: 188179.0000\n",
      "Epoch 36/100\n",
      "37/37 [==============================] - 1s 24ms/step - loss: 1.0078 - accuracy: 0.9966 - val_loss: 1.6866 - val_accuracy: 0.8312 - _timestamp: 1657814675.0000 - _runtime: 188180.0000\n",
      "Epoch 37/100\n",
      "37/37 [==============================] - 1s 23ms/step - loss: 1.1110 - accuracy: 0.9992 - val_loss: 1.4986 - val_accuracy: 0.8052 - _timestamp: 1657814676.0000 - _runtime: 188181.0000\n",
      "Epoch 38/100\n",
      "37/37 [==============================] - 1s 24ms/step - loss: 0.9833 - accuracy: 1.0000 - val_loss: 1.4447 - val_accuracy: 0.7922 - _timestamp: 1657814677.0000 - _runtime: 188182.0000\n",
      "Epoch 39/100\n",
      "37/37 [==============================] - 1s 23ms/step - loss: 0.9475 - accuracy: 1.0000 - val_loss: 1.3958 - val_accuracy: 0.8052 - _timestamp: 1657814677.0000 - _runtime: 188182.0000\n",
      "Epoch 40/100\n",
      "37/37 [==============================] - 1s 23ms/step - loss: 0.9383 - accuracy: 1.0000 - val_loss: 1.4262 - val_accuracy: 0.8052 - _timestamp: 1657814678.0000 - _runtime: 188183.0000\n",
      "Epoch 41/100\n",
      "37/37 [==============================] - 1s 24ms/step - loss: 0.9375 - accuracy: 1.0000 - val_loss: 1.3898 - val_accuracy: 0.8052 - _timestamp: 1657814679.0000 - _runtime: 188184.0000\n",
      "Epoch 42/100\n",
      "37/37 [==============================] - 1s 23ms/step - loss: 0.9342 - accuracy: 1.0000 - val_loss: 1.5872 - val_accuracy: 0.8182 - _timestamp: 1657814680.0000 - _runtime: 188185.0000\n",
      "Epoch 43/100\n",
      "37/37 [==============================] - 1s 23ms/step - loss: 0.9581 - accuracy: 1.0000 - val_loss: 1.3741 - val_accuracy: 0.8312 - _timestamp: 1657814681.0000 - _runtime: 188186.0000\n",
      "Epoch 44/100\n",
      "37/37 [==============================] - 1s 23ms/step - loss: 1.0826 - accuracy: 0.9941 - val_loss: 1.6690 - val_accuracy: 0.8052 - _timestamp: 1657814682.0000 - _runtime: 188187.0000\n",
      "Epoch 45/100\n",
      "37/37 [==============================] - 1s 23ms/step - loss: 1.0957 - accuracy: 0.9975 - val_loss: 1.5260 - val_accuracy: 0.8442 - _timestamp: 1657814683.0000 - _runtime: 188188.0000\n",
      "Epoch 46/100\n",
      "37/37 [==============================] - 1s 23ms/step - loss: 1.0111 - accuracy: 1.0000 - val_loss: 1.4102 - val_accuracy: 0.8701 - _timestamp: 1657814684.0000 - _runtime: 188189.0000\n",
      "Epoch 47/100\n",
      "37/37 [==============================] - 1s 23ms/step - loss: 0.9364 - accuracy: 1.0000 - val_loss: 1.4129 - val_accuracy: 0.8442 - _timestamp: 1657814684.0000 - _runtime: 188189.0000\n",
      "Epoch 48/100\n",
      "37/37 [==============================] - 1s 23ms/step - loss: 0.9184 - accuracy: 1.0000 - val_loss: 1.3970 - val_accuracy: 0.8312 - _timestamp: 1657814685.0000 - _runtime: 188190.0000\n",
      "Epoch 49/100\n",
      "37/37 [==============================] - 1s 24ms/step - loss: 0.9109 - accuracy: 1.0000 - val_loss: 1.4503 - val_accuracy: 0.8182 - _timestamp: 1657814686.0000 - _runtime: 188191.0000\n",
      "Epoch 50/100\n",
      "37/37 [==============================] - 1s 24ms/step - loss: 0.9092 - accuracy: 1.0000 - val_loss: 1.3795 - val_accuracy: 0.8312 - _timestamp: 1657814687.0000 - _runtime: 188192.0000\n",
      "Epoch 51/100\n",
      "37/37 [==============================] - 1s 24ms/step - loss: 0.9041 - accuracy: 1.0000 - val_loss: 1.4296 - val_accuracy: 0.8052 - _timestamp: 1657814688.0000 - _runtime: 188193.0000\n",
      "Epoch 52/100\n",
      "37/37 [==============================] - 1s 23ms/step - loss: 0.9036 - accuracy: 1.0000 - val_loss: 1.3875 - val_accuracy: 0.8182 - _timestamp: 1657814689.0000 - _runtime: 188194.0000\n",
      "Epoch 53/100\n",
      "37/37 [==============================] - 1s 23ms/step - loss: 0.9113 - accuracy: 1.0000 - val_loss: 1.4998 - val_accuracy: 0.8182 - _timestamp: 1657814690.0000 - _runtime: 188195.0000\n",
      "Epoch 54/100\n",
      "37/37 [==============================] - 1s 23ms/step - loss: 0.9126 - accuracy: 1.0000 - val_loss: 1.4738 - val_accuracy: 0.8052 - _timestamp: 1657814690.0000 - _runtime: 188195.0000\n",
      "Epoch 55/100\n",
      "37/37 [==============================] - 1s 23ms/step - loss: 0.9008 - accuracy: 1.0000 - val_loss: 1.3493 - val_accuracy: 0.8442 - _timestamp: 1657814691.0000 - _runtime: 188196.0000\n",
      "Epoch 56/100\n",
      "37/37 [==============================] - 1s 23ms/step - loss: 0.8911 - accuracy: 1.0000 - val_loss: 1.3659 - val_accuracy: 0.8182 - _timestamp: 1657814692.0000 - _runtime: 188197.0000\n",
      "Epoch 57/100\n",
      "37/37 [==============================] - 1s 23ms/step - loss: 0.9083 - accuracy: 0.9983 - val_loss: 1.7601 - val_accuracy: 0.7922 - _timestamp: 1657814693.0000 - _runtime: 188198.0000\n",
      "Epoch 58/100\n",
      "37/37 [==============================] - 1s 23ms/step - loss: 1.0561 - accuracy: 0.9975 - val_loss: 1.4395 - val_accuracy: 0.8571 - _timestamp: 1657814694.0000 - _runtime: 188199.0000\n",
      "Epoch 59/100\n",
      "37/37 [==============================] - 1s 28ms/step - loss: 0.9510 - accuracy: 1.0000 - val_loss: 1.3154 - val_accuracy: 0.8571 - _timestamp: 1657814695.0000 - _runtime: 188200.0000\n",
      "Epoch 60/100\n",
      "37/37 [==============================] - 1s 23ms/step - loss: 0.8888 - accuracy: 1.0000 - val_loss: 1.3446 - val_accuracy: 0.8182 - _timestamp: 1657814696.0000 - _runtime: 188201.0000\n",
      "Epoch 61/100\n",
      "37/37 [==============================] - 1s 25ms/step - loss: 0.8787 - accuracy: 1.0000 - val_loss: 1.2719 - val_accuracy: 0.8312 - _timestamp: 1657814697.0000 - _runtime: 188202.0000\n",
      "Epoch 62/100\n",
      "37/37 [==============================] - 1s 23ms/step - loss: 0.8788 - accuracy: 1.0000 - val_loss: 1.3136 - val_accuracy: 0.8571 - _timestamp: 1657814697.0000 - _runtime: 188202.0000\n",
      "Epoch 63/100\n",
      "37/37 [==============================] - 1s 24ms/step - loss: 1.3195 - accuracy: 0.9147 - val_loss: 2.1145 - val_accuracy: 0.8052 - _timestamp: 1657814698.0000 - _runtime: 188203.0000\n",
      "Epoch 64/100\n",
      "37/37 [==============================] - 1s 23ms/step - loss: 1.6038 - accuracy: 0.9738 - val_loss: 2.1326 - val_accuracy: 0.8052 - _timestamp: 1657814699.0000 - _runtime: 188204.0000\n",
      "Epoch 65/100\n",
      "37/37 [==============================] - 1s 23ms/step - loss: 1.3417 - accuracy: 0.9966 - val_loss: 1.8739 - val_accuracy: 0.8182 - _timestamp: 1657814700.0000 - _runtime: 188205.0000\n",
      "Epoch 66/100\n",
      "37/37 [==============================] - 1s 23ms/step - loss: 1.1560 - accuracy: 1.0000 - val_loss: 1.6321 - val_accuracy: 0.8442 - _timestamp: 1657814701.0000 - _runtime: 188206.0000\n",
      "Epoch 67/100\n",
      "37/37 [==============================] - 1s 23ms/step - loss: 1.0487 - accuracy: 1.0000 - val_loss: 1.5323 - val_accuracy: 0.8312 - _timestamp: 1657814702.0000 - _runtime: 188207.0000\n",
      "Epoch 68/100\n",
      "37/37 [==============================] - 1s 23ms/step - loss: 0.9873 - accuracy: 1.0000 - val_loss: 1.4812 - val_accuracy: 0.8442 - _timestamp: 1657814703.0000 - _runtime: 188208.0000\n",
      "Epoch 69/100\n",
      "37/37 [==============================] - 1s 23ms/step - loss: 0.9467 - accuracy: 1.0000 - val_loss: 1.4218 - val_accuracy: 0.8312 - _timestamp: 1657814703.0000 - _runtime: 188208.0000\n",
      "Epoch 70/100\n",
      "37/37 [==============================] - 1s 23ms/step - loss: 0.9198 - accuracy: 1.0000 - val_loss: 1.3745 - val_accuracy: 0.8182 - _timestamp: 1657814704.0000 - _runtime: 188209.0000\n",
      "Epoch 71/100\n",
      "37/37 [==============================] - 1s 23ms/step - loss: 0.9006 - accuracy: 1.0000 - val_loss: 1.3579 - val_accuracy: 0.8312 - _timestamp: 1657814705.0000 - _runtime: 188210.0000\n",
      "Epoch 72/100\n",
      "37/37 [==============================] - 1s 23ms/step - loss: 0.8888 - accuracy: 1.0000 - val_loss: 1.3728 - val_accuracy: 0.8052 - _timestamp: 1657814706.0000 - _runtime: 188211.0000\n",
      "Epoch 73/100\n",
      "37/37 [==============================] - 1s 23ms/step - loss: 0.8790 - accuracy: 1.0000 - val_loss: 1.3103 - val_accuracy: 0.8571 - _timestamp: 1657814707.0000 - _runtime: 188212.0000\n",
      "Epoch 74/100\n",
      "37/37 [==============================] - 1s 24ms/step - loss: 0.8710 - accuracy: 1.0000 - val_loss: 1.3437 - val_accuracy: 0.8052 - _timestamp: 1657814708.0000 - _runtime: 188213.0000\n",
      "Epoch 75/100\n",
      "37/37 [==============================] - 1s 23ms/step - loss: 0.8662 - accuracy: 1.0000 - val_loss: 1.2927 - val_accuracy: 0.8182 - _timestamp: 1657814709.0000 - _runtime: 188214.0000\n",
      "Epoch 76/100\n",
      "37/37 [==============================] - 1s 25ms/step - loss: 0.8618 - accuracy: 1.0000 - val_loss: 1.2695 - val_accuracy: 0.8442 - _timestamp: 1657814709.0000 - _runtime: 188214.0000\n",
      "Epoch 77/100\n",
      "37/37 [==============================] - 1s 23ms/step - loss: 0.8603 - accuracy: 1.0000 - val_loss: 1.2869 - val_accuracy: 0.8052 - _timestamp: 1657814710.0000 - _runtime: 188215.0000\n",
      "Epoch 78/100\n",
      "37/37 [==============================] - 1s 24ms/step - loss: 0.8572 - accuracy: 1.0000 - val_loss: 1.3349 - val_accuracy: 0.8182 - _timestamp: 1657814711.0000 - _runtime: 188216.0000\n",
      "Epoch 79/100\n",
      "37/37 [==============================] - 1s 24ms/step - loss: 0.8555 - accuracy: 1.0000 - val_loss: 1.2670 - val_accuracy: 0.8312 - _timestamp: 1657814712.0000 - _runtime: 188217.0000\n",
      "Epoch 80/100\n",
      "37/37 [==============================] - 1s 24ms/step - loss: 0.8563 - accuracy: 1.0000 - val_loss: 1.2482 - val_accuracy: 0.8442 - _timestamp: 1657814713.0000 - _runtime: 188218.0000\n",
      "Epoch 81/100\n",
      "37/37 [==============================] - 1s 25ms/step - loss: 0.8524 - accuracy: 1.0000 - val_loss: 1.2472 - val_accuracy: 0.8312 - _timestamp: 1657814714.0000 - _runtime: 188219.0000\n",
      "Epoch 82/100\n",
      "37/37 [==============================] - 1s 23ms/step - loss: 0.8489 - accuracy: 1.0000 - val_loss: 1.2552 - val_accuracy: 0.8312 - _timestamp: 1657814715.0000 - _runtime: 188220.0000\n",
      "Epoch 83/100\n",
      "37/37 [==============================] - 1s 24ms/step - loss: 0.8483 - accuracy: 1.0000 - val_loss: 1.2589 - val_accuracy: 0.8182 - _timestamp: 1657814716.0000 - _runtime: 188221.0000\n",
      "Epoch 84/100\n",
      "37/37 [==============================] - 1s 24ms/step - loss: 0.8468 - accuracy: 1.0000 - val_loss: 1.2693 - val_accuracy: 0.8312 - _timestamp: 1657814717.0000 - _runtime: 188222.0000\n",
      "Epoch 85/100\n",
      "37/37 [==============================] - 1s 23ms/step - loss: 0.8446 - accuracy: 1.0000 - val_loss: 1.2852 - val_accuracy: 0.8312 - _timestamp: 1657814717.0000 - _runtime: 188222.0000\n",
      "Epoch 86/100\n",
      "37/37 [==============================] - 1s 23ms/step - loss: 0.8432 - accuracy: 1.0000 - val_loss: 1.3499 - val_accuracy: 0.8182 - _timestamp: 1657814718.0000 - _runtime: 188223.0000\n",
      "Epoch 87/100\n",
      "37/37 [==============================] - 1s 25ms/step - loss: 0.8426 - accuracy: 1.0000 - val_loss: 1.2202 - val_accuracy: 0.8312 - _timestamp: 1657814719.0000 - _runtime: 188224.0000\n",
      "Epoch 88/100\n",
      "37/37 [==============================] - 1s 24ms/step - loss: 0.8439 - accuracy: 1.0000 - val_loss: 1.2554 - val_accuracy: 0.8182 - _timestamp: 1657814720.0000 - _runtime: 188225.0000\n",
      "Epoch 89/100\n",
      "37/37 [==============================] - 1s 24ms/step - loss: 0.8595 - accuracy: 1.0000 - val_loss: 1.3288 - val_accuracy: 0.7922 - _timestamp: 1657814721.0000 - _runtime: 188226.0000\n",
      "Epoch 90/100\n",
      "37/37 [==============================] - 1s 23ms/step - loss: 0.8511 - accuracy: 1.0000 - val_loss: 1.3961 - val_accuracy: 0.8052 - _timestamp: 1657814722.0000 - _runtime: 188227.0000\n",
      "Epoch 91/100\n",
      "37/37 [==============================] - 1s 23ms/step - loss: 0.8414 - accuracy: 1.0000 - val_loss: 1.2214 - val_accuracy: 0.8182 - _timestamp: 1657814723.0000 - _runtime: 188228.0000\n",
      "Epoch 92/100\n",
      "37/37 [==============================] - 1s 23ms/step - loss: 0.8361 - accuracy: 1.0000 - val_loss: 1.2572 - val_accuracy: 0.8182 - _timestamp: 1657814723.0000 - _runtime: 188228.0000\n",
      "Epoch 93/100\n",
      "37/37 [==============================] - 1s 23ms/step - loss: 0.8357 - accuracy: 1.0000 - val_loss: 1.2359 - val_accuracy: 0.8312 - _timestamp: 1657814724.0000 - _runtime: 188229.0000\n",
      "Epoch 94/100\n",
      "37/37 [==============================] - 1s 23ms/step - loss: 0.8386 - accuracy: 1.0000 - val_loss: 1.3048 - val_accuracy: 0.7792 - _timestamp: 1657814725.0000 - _runtime: 188230.0000\n",
      "Epoch 95/100\n",
      "37/37 [==============================] - 1s 24ms/step - loss: 0.8420 - accuracy: 1.0000 - val_loss: 1.2291 - val_accuracy: 0.8312 - _timestamp: 1657814726.0000 - _runtime: 188231.0000\n",
      "Epoch 96/100\n",
      "37/37 [==============================] - 1s 23ms/step - loss: 0.8313 - accuracy: 1.0000 - val_loss: 1.2673 - val_accuracy: 0.8312 - _timestamp: 1657814727.0000 - _runtime: 188232.0000\n",
      "Epoch 97/100\n",
      "37/37 [==============================] - 1s 25ms/step - loss: 0.8324 - accuracy: 1.0000 - val_loss: 1.1806 - val_accuracy: 0.8571 - _timestamp: 1657814728.0000 - _runtime: 188233.0000\n",
      "Epoch 98/100\n",
      "37/37 [==============================] - 1s 23ms/step - loss: 0.8332 - accuracy: 1.0000 - val_loss: 1.2182 - val_accuracy: 0.8312 - _timestamp: 1657814729.0000 - _runtime: 188234.0000\n",
      "Epoch 99/100\n",
      "37/37 [==============================] - 1s 23ms/step - loss: 0.8296 - accuracy: 1.0000 - val_loss: 1.1957 - val_accuracy: 0.8182 - _timestamp: 1657814730.0000 - _runtime: 188235.0000\n",
      "Epoch 100/100\n",
      "37/37 [==============================] - 1s 23ms/step - loss: 0.8363 - accuracy: 1.0000 - val_loss: 1.3361 - val_accuracy: 0.8182 - _timestamp: 1657814730.0000 - _runtime: 188235.0000\n"
     ]
    }
   ],
   "source": [
    "history = model.fit(x_train, y_train, epochs=epochs, batch_size=batch_size, validation_data=(x_test, y_test), callbacks=[WandbCallback()])"
   ]
  },
  {
   "cell_type": "code",
   "execution_count": 161,
   "metadata": {},
   "outputs": [
    {
     "data": {
      "image/png": "[encoded data removed]",
      "text/plain": [
       "<Figure size 1080x360 with 2 Axes>"
      ]
     },
     "metadata": {
      "needs_background": "light"
     },
     "output_type": "display_data"
    }
   ],
   "source": [
    "fig, ax = plt.subplots(1, 2, figsize=(15, 5))\n",
    "ax[0].plot(history.history[\"loss\"], label=\"train\")\n",
    "ax[0].plot(history.history[\"val_loss\"], label=\"test\")\n",
    "ax[0].set_title(\"Loss\")\n",
    "ax[1].plot(history.history[\"accuracy\"], label=\"train\")\n",
    "ax[1].plot(history.history[\"val_accuracy\"], label=\"test\")\n",
    "ax[1].set_title(\"Accuracy\")\n",
    "plt.show()"
   ]
  },
  {
   "cell_type": "code",
   "execution_count": 163,
   "metadata": {},
   "outputs": [
    {
     "name": "stdout",
     "output_type": "stream",
     "text": [
      "3/3 [==============================] - 0s 5ms/step - loss: 1.3361 - accuracy: 0.8182\n"
     ]
    },
    {
     "data": {
      "text/plain": [
       "[1.3361262083053589, 0.8181818127632141]"
      ]
     },
     "execution_count": 163,
     "metadata": {},
     "output_type": "execute_result"
    }
   ],
   "source": [
    "model.evaluate(x_test, y_test)"
   ]
  },
  {
   "cell_type": "code",
   "execution_count": 33,
   "metadata": {},
   "outputs": [
    {
     "data": {
      "text/html": [
       "Waiting for W&B process to finish... <strong style=\"color:green\">(success).</strong>"
      ],
      "text/plain": [
       "<IPython.core.display.HTML object>"
      ]
     },
     "metadata": {},
     "output_type": "display_data"
    },
    {
     "data": {
      "text/html": [
       "<style>\n",
       "    table.wandb td:nth-child(1) { padding: 0 10px; text-align: left ; width: auto;} td:nth-child(2) {text-align: left ; width: 100%}\n",
       "    .wandb-row { display: flex; flex-direction: row; flex-wrap: wrap; justify-content: flex-start; width: 100% }\n",
       "    .wandb-col { display: flex; flex-direction: column; flex-basis: 100%; flex: 1; padding: 10px; }\n",
       "    </style>\n",
       "<div class=\"wandb-row\"><div class=\"wandb-col\"><h3>Run history:</h3><br/><table class=\"wandb\"><tr><td>accuracy</td><td>▁▅██████████████████████████████████████</td></tr><tr><td>epoch</td><td>▁▁▁▁▂▂▂▂▂▃▃▃▃▃▃▄▄▄▄▄▅▅▅▅▅▅▆▆▆▆▆▇▇▇▇▇▇███</td></tr><tr><td>loss</td><td>▁█▁▁▁▁▁▁▁▁▁▁▁▁▁▁▁▁▁▁▁▂▁▁▁▁▁▁▁▁▁▁▁▁▁▁▁▂▁▁</td></tr><tr><td>val_accuracy</td><td>▁▆▇██▇▆▇▇▇▇▇▇▇▇▇█▇█▇▂▅▅▆▅▆▆▆▆▅▅▅▅▅▆▅▆▄▄▅</td></tr><tr><td>val_loss</td><td>▁▁▂▃▃▃▃▃▃▄▄▅▄▄▄▄▅▅▅▅▅▃▄▄▅▅▆▆▆▇▇▇▇▇▇█▆▄▄▄</td></tr></table><br/></div><div class=\"wandb-col\"><h3>Run summary:</h3><br/><table class=\"wandb\"><tr><td>accuracy</td><td>1.0</td></tr><tr><td>best_epoch</td><td>1</td></tr><tr><td>best_val_loss</td><td>1.40788</td></tr><tr><td>epoch</td><td>99</td></tr><tr><td>loss</td><td>0.00168</td></tr><tr><td>val_accuracy</td><td>0.48387</td></tr><tr><td>val_loss</td><td>2.81834</td></tr></table><br/></div></div>"
      ],
      "text/plain": [
       "<IPython.core.display.HTML object>"
      ]
     },
     "metadata": {},
     "output_type": "display_data"
    },
    {
     "data": {
      "text/html": [
       "Synced <strong style=\"color:#cdcd00\">sage-armadillo-11</strong>: <a href=\"https://wandb.ai/nicolaromano/scRNA-seq-classification/runs/2jfwtlsc\" target=\"_blank\">https://wandb.ai/nicolaromano/scRNA-seq-classification/runs/2jfwtlsc</a><br/>Synced 5 W&B file(s), 1 media file(s), 0 artifact file(s) and 1 other file(s)"
      ],
      "text/plain": [
       "<IPython.core.display.HTML object>"
      ]
     },
     "metadata": {},
     "output_type": "display_data"
    },
    {
     "data": {
      "text/html": [
       "Find logs at: <code>./wandb/run-20220706_172029-2jfwtlsc/logs</code>"
      ],
      "text/plain": [
       "<IPython.core.display.HTML object>"
      ]
     },
     "metadata": {},
     "output_type": "display_data"
    }
   ],
   "source": [
    "wandb.finish()"
   ]
  }
 ],
 "metadata": {
  "kernelspec": {
   "display_name": "Python 3.10.4 ('image_analysis_3_10')",
   "language": "python",
   "name": "python3"
  },
  "language_info": {
   "codemirror_mode": {
    "name": "ipython",
    "version": 3
   },
   "file_extension": ".py",
   "mimetype": "text/x-python",
   "name": "python",
   "nbconvert_exporter": "python",
   "pygments_lexer": "ipython3",
   "version": "3.10.4"
  },
  "orig_nbformat": 4,
  "vscode": {
   "interpreter": {
    "hash": "ec56b008a282d9e3f7d97665e7b2fb5c20f951cff21dcda9c5319bc9d0609467"
   }
  }
 },
 "nbformat": 4,
 "nbformat_minor": 2
}
